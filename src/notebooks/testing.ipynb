{
 "cells": [
  {
   "cell_type": "code",
   "execution_count": 1,
   "metadata": {},
   "outputs": [],
   "source": [
    "from pydala.dataset import Reader\n",
    "from pydala.filesystem import FileSystem\n"
   ]
  },
  {
   "cell_type": "code",
   "execution_count": 2,
   "metadata": {},
   "outputs": [],
   "source": [
    "fs1 = FileSystem(\n",
    "    access_key=\"volker\",\n",
    "    secret_key=\"s78anwg9\",\n",
    "    endpoint_url=\"http://192.168.2.162:9000\",\n",
    "    aws_profile=\"minio\",\n",
    ")\n"
   ]
  },
  {
   "cell_type": "code",
   "execution_count": 6,
   "metadata": {},
   "outputs": [
    {
     "name": "stdout",
     "output_type": "stream",
     "text": [
      "\u001b[0;31mSignature:\u001b[0m \u001b[0mfs1\u001b[0m\u001b[0;34m.\u001b[0m\u001b[0m_filesystem\u001b[0m\u001b[0;34m.\u001b[0m\u001b[0mls\u001b[0m\u001b[0;34m(\u001b[0m\u001b[0mpath\u001b[0m\u001b[0;34m,\u001b[0m \u001b[0mdetail\u001b[0m\u001b[0;34m=\u001b[0m\u001b[0;32mTrue\u001b[0m\u001b[0;34m,\u001b[0m \u001b[0;34m**\u001b[0m\u001b[0mkwargs\u001b[0m\u001b[0;34m)\u001b[0m\u001b[0;34m\u001b[0m\u001b[0;34m\u001b[0m\u001b[0m\n",
      "\u001b[0;31mSource:\u001b[0m   \n",
      "    \u001b[0;32mdef\u001b[0m \u001b[0mls\u001b[0m\u001b[0;34m(\u001b[0m\u001b[0mself\u001b[0m\u001b[0;34m,\u001b[0m \u001b[0mpath\u001b[0m\u001b[0;34m,\u001b[0m \u001b[0mdetail\u001b[0m\u001b[0;34m=\u001b[0m\u001b[0;32mTrue\u001b[0m\u001b[0;34m,\u001b[0m \u001b[0;34m**\u001b[0m\u001b[0mkwargs\u001b[0m\u001b[0;34m)\u001b[0m\u001b[0;34m:\u001b[0m\u001b[0;34m\u001b[0m\n",
      "\u001b[0;34m\u001b[0m        \u001b[0;34m\"\"\"List objects at path.\u001b[0m\n",
      "\u001b[0;34m\u001b[0m\n",
      "\u001b[0;34m        This should include subdirectories and files at that location. The\u001b[0m\n",
      "\u001b[0;34m        difference between a file and a directory must be clear when details\u001b[0m\n",
      "\u001b[0;34m        are requested.\u001b[0m\n",
      "\u001b[0;34m\u001b[0m\n",
      "\u001b[0;34m        The specific keys, or perhaps a FileInfo class, or similar, is TBD,\u001b[0m\n",
      "\u001b[0;34m        but must be consistent across implementations.\u001b[0m\n",
      "\u001b[0;34m        Must include:\u001b[0m\n",
      "\u001b[0;34m\u001b[0m\n",
      "\u001b[0;34m        - full path to the entry (without protocol)\u001b[0m\n",
      "\u001b[0;34m        - size of the entry, in bytes. If the value cannot be determined, will\u001b[0m\n",
      "\u001b[0;34m          be ``None``.\u001b[0m\n",
      "\u001b[0;34m        - type of entry, \"file\", \"directory\" or other\u001b[0m\n",
      "\u001b[0;34m\u001b[0m\n",
      "\u001b[0;34m        Additional information\u001b[0m\n",
      "\u001b[0;34m        may be present, aproriate to the file-system, e.g., generation,\u001b[0m\n",
      "\u001b[0;34m        checksum, etc.\u001b[0m\n",
      "\u001b[0;34m\u001b[0m\n",
      "\u001b[0;34m        May use refresh=True|False to allow use of self._ls_from_cache to\u001b[0m\n",
      "\u001b[0;34m        check for a saved listing and avoid calling the backend. This would be\u001b[0m\n",
      "\u001b[0;34m        common where listing may be expensive.\u001b[0m\n",
      "\u001b[0;34m\u001b[0m\n",
      "\u001b[0;34m        Parameters\u001b[0m\n",
      "\u001b[0;34m        ----------\u001b[0m\n",
      "\u001b[0;34m        path: str\u001b[0m\n",
      "\u001b[0;34m        detail: bool\u001b[0m\n",
      "\u001b[0;34m            if True, gives a list of dictionaries, where each is the same as\u001b[0m\n",
      "\u001b[0;34m            the result of ``info(path)``. If False, gives a list of paths\u001b[0m\n",
      "\u001b[0;34m            (str).\u001b[0m\n",
      "\u001b[0;34m        kwargs: may have additional backend-specific options, such as version\u001b[0m\n",
      "\u001b[0;34m            information\u001b[0m\n",
      "\u001b[0;34m\u001b[0m\n",
      "\u001b[0;34m        Returns\u001b[0m\n",
      "\u001b[0;34m        -------\u001b[0m\n",
      "\u001b[0;34m        List of strings if detail is False, or list of directory information\u001b[0m\n",
      "\u001b[0;34m        dicts if detail is True.\u001b[0m\n",
      "\u001b[0;34m        \"\"\"\u001b[0m\u001b[0;34m\u001b[0m\n",
      "\u001b[0;34m\u001b[0m        \u001b[0;32mraise\u001b[0m \u001b[0mNotImplementedError\u001b[0m\u001b[0;34m\u001b[0m\u001b[0;34m\u001b[0m\u001b[0m\n",
      "\u001b[0;31mFile:\u001b[0m      ~/mambaforge/envs/main/lib/python3.10/site-packages/fsspec/spec.py\n",
      "\u001b[0;31mType:\u001b[0m      method\n"
     ]
    }
   ],
   "source": [
    "fs1._filesystem.ls??"
   ]
  },
  {
   "cell_type": "code",
   "execution_count": 1,
   "metadata": {},
   "outputs": [],
   "source": [
    "import pyarrow.fs as pafs\n"
   ]
  },
  {
   "cell_type": "code",
   "execution_count": 2,
   "metadata": {},
   "outputs": [
    {
     "data": {
      "text/plain": [
       "['findata/yahoo']"
      ]
     },
     "execution_count": 2,
     "metadata": {},
     "output_type": "execute_result"
    }
   ],
   "source": [
    "from pydala.dataset import Reader\n",
    "\n",
    "from pydala.filesystem import FileSystem\n",
    "\n",
    "s3 = FileSystem(\n",
    "    access_key=\"volker\",\n",
    "    secret_key=\"s78anwg9\",\n",
    "    aws_profile=\"minio\",\n",
    "    endpoint_url=\"http://192.168.2.162:9000\",\n",
    ")\n",
    "s3.ls(\"findata\")\n"
   ]
  },
  {
   "cell_type": "code",
   "execution_count": null,
   "metadata": {},
   "outputs": [],
   "source": []
  }
 ],
 "metadata": {
  "kernelspec": {
   "display_name": "main",
   "language": "python",
   "name": "python3"
  },
  "language_info": {
   "codemirror_mode": {
    "name": "ipython",
    "version": 3
   },
   "file_extension": ".py",
   "mimetype": "text/x-python",
   "name": "python",
   "nbconvert_exporter": "python",
   "pygments_lexer": "ipython3",
   "version": "3.10.6"
  },
  "orig_nbformat": 4,
  "vscode": {
   "interpreter": {
    "hash": "3b94fc174663f915eba4b8036d099da7af1b981072731248f5049e48fcd46b12"
   }
  }
 },
 "nbformat": 4,
 "nbformat_minor": 2
}
